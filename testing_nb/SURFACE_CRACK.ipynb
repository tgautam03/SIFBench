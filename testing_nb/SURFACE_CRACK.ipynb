{
 "cells": [
  {
   "cell_type": "code",
   "execution_count": null,
   "id": "e81b85bb",
   "metadata": {},
   "outputs": [],
   "source": [
    "import numpy as np\n",
    "import pandas as pd\n",
    "from joblib import dump, load\n",
    "from tqdm import tqdm\n",
    "\n",
    "from sklearn.ensemble import RandomForestRegressor\n",
    "from sklearn.svm import SVR\n",
    "\n",
    "from sklearn.model_selection import train_test_split\n",
    "\n",
    "import torch\n",
    "import torch.nn as nn\n",
    "import torch.nn.functional as F\n",
    "from torch.utils.data import TensorDataset, DataLoader\n",
    "\n",
    "import itertools"
   ]
  },
  {
   "cell_type": "code",
   "execution_count": null,
   "id": "249bcc82",
   "metadata": {},
   "outputs": [],
   "source": [
    "def shuffle_arrays(arr1, arr2):\n",
    "    assert len(arr1) == len(arr2)\n",
    "    permutation = np.random.permutation(len(arr1))\n",
    "    return arr1[permutation], arr2[permutation]"
   ]
  },
  {
   "cell_type": "markdown",
   "id": "9e71c7f6",
   "metadata": {},
   "source": [
    "# Testing Dataset"
   ]
  },
  {
   "cell_type": "code",
   "execution_count": null,
   "id": "c0ff4f1e",
   "metadata": {},
   "outputs": [],
   "source": [
    "df = pd.read_csv(\"../files/data/FINAL_CSV/SURFACE_CRACK_TEST.csv\")\n",
    "df"
   ]
  },
  {
   "cell_type": "code",
   "execution_count": null,
   "id": "03383cf4",
   "metadata": {},
   "outputs": [],
   "source": [
    "# Get unique combinations of the first four columns\n",
    "SC_test_combinations = df.iloc[:, 1:4].drop_duplicates().to_numpy()\n",
    "\n",
    "print(len(SC_test_combinations))\n",
    "\n",
    "print(\"Different a/c values: \", np.unique(SC_test_combinations[:,0], axis=0))\n",
    "print(\"Different a/t values: \", np.unique(SC_test_combinations[:,1], axis=0))\n",
    "print(\"Different c/b values: \", np.unique(SC_test_combinations[:,2], axis=0))"
   ]
  },
  {
   "cell_type": "code",
   "execution_count": null,
   "id": "87e0f14e",
   "metadata": {},
   "outputs": [],
   "source": [
    "phi_values = df.iloc[:, 4].drop_duplicates().to_numpy()\n",
    "print(phi_values)\n",
    "print(len(phi_values))"
   ]
  },
  {
   "cell_type": "code",
   "execution_count": null,
   "id": "5d382d55",
   "metadata": {},
   "outputs": [],
   "source": [
    "d = df.to_numpy()[:,1:]\n",
    "d.shape"
   ]
  },
  {
   "cell_type": "markdown",
   "id": "3a37c1d6",
   "metadata": {},
   "source": [
    "# RFR"
   ]
  },
  {
   "cell_type": "code",
   "execution_count": null,
   "id": "4ff6e668",
   "metadata": {},
   "outputs": [],
   "source": [
    "X_test = d[:,:-1]"
   ]
  },
  {
   "cell_type": "code",
   "execution_count": null,
   "id": "941a0017",
   "metadata": {},
   "outputs": [],
   "source": [
    "rfr = load('../files/trained_models/SURFACE_CRACK/rfr.joblib')\n",
    "y_pred_rfr = rfr.predict(X_test)"
   ]
  },
  {
   "cell_type": "markdown",
   "id": "66d9d70d",
   "metadata": {},
   "source": [
    "# SVR"
   ]
  },
  {
   "cell_type": "code",
   "execution_count": null,
   "id": "116bf11c",
   "metadata": {},
   "outputs": [],
   "source": [
    "X_test = d[:,:-1]"
   ]
  },
  {
   "cell_type": "code",
   "execution_count": null,
   "id": "ee969702",
   "metadata": {},
   "outputs": [],
   "source": [
    "svr = load('../files/trained_models/SURFACE_CRACK/svr.joblib')\n",
    "y_pred_svr = svr.predict(X_test)"
   ]
  },
  {
   "cell_type": "markdown",
   "id": "dd0d9b04",
   "metadata": {},
   "source": [
    "# NN"
   ]
  },
  {
   "cell_type": "code",
   "execution_count": null,
   "id": "6539a7ca",
   "metadata": {},
   "outputs": [],
   "source": [
    "X_test = d[:,:-1]\n",
    "y_test = d[:,:-1]"
   ]
  },
  {
   "cell_type": "code",
   "execution_count": null,
   "id": "6f382125",
   "metadata": {},
   "outputs": [],
   "source": [
    "import src.nn as custom_nn"
   ]
  },
  {
   "cell_type": "code",
   "execution_count": null,
   "id": "e4065ffb",
   "metadata": {},
   "outputs": [],
   "source": [
    "device = 'cuda'"
   ]
  },
  {
   "cell_type": "code",
   "execution_count": null,
   "id": "f4ac6206",
   "metadata": {},
   "outputs": [],
   "source": [
    "X_test_gpu = torch.FloatTensor(X_test).to(device)\n",
    "\n",
    "X_test_gpu.shape"
   ]
  },
  {
   "cell_type": "code",
   "execution_count": null,
   "id": "086917ba",
   "metadata": {},
   "outputs": [],
   "source": [
    "net = custom_nn.Net10(X_test_gpu.shape[1], 100).to(device)\n",
    "FILENAME = \"../files/trained_models/SURFACE_CRACK/nn10.pt\"\n",
    "net.load_state_dict(torch.load(FILENAME, weights_only=False))\n",
    "\n",
    "with torch.no_grad():\n",
    "    y_pred_nn = net.forward(X_test_gpu).cpu().numpy()[:,0]"
   ]
  },
  {
   "cell_type": "markdown",
   "id": "707676e1",
   "metadata": {},
   "source": [
    "# DeepONet"
   ]
  },
  {
   "cell_type": "code",
   "execution_count": null,
   "id": "3f8bb172",
   "metadata": {},
   "outputs": [],
   "source": [
    "from src.deeponet import DeepONet"
   ]
  },
  {
   "cell_type": "code",
   "execution_count": null,
   "id": "3e38c10b",
   "metadata": {},
   "outputs": [],
   "source": [
    "X_deeponet = np.zeros((len(SC_test_combinations), 3))\n",
    "phi_deeponet = np.zeros((128, 1))\n",
    "y_deeponet = np.zeros((len(SC_test_combinations), 128))\n",
    "\n",
    "for (i,combination) in enumerate(SC_test_combinations):\n",
    "    indices = np.where((d[:, 0] == combination[0]) & \n",
    "                    (d[:, 1] == combination[1]) &\n",
    "                    (d[:, 2] == combination[2])) \n",
    "    indices = indices[0]\n",
    "\n",
    "    X_deeponet[i,0] = combination[0]\n",
    "    X_deeponet[i,1] = combination[1]\n",
    "    X_deeponet[i,2] = combination[2]\n",
    "\n",
    "    if i == 0:\n",
    "        phi_deeponet = d[indices][:,-2]\n",
    "    else:\n",
    "        assert (phi_deeponet[:] == d[indices][:,-2]).all()\n",
    "\n",
    "    y_deeponet[i,:] = d[indices][:,-1]"
   ]
  },
  {
   "cell_type": "code",
   "execution_count": null,
   "id": "80b4d6c1",
   "metadata": {},
   "outputs": [],
   "source": [
    "import matplotlib.pyplot as plt\n",
    "np.random.seed(0)\n",
    "fig, axs = plt.subplots(2, 5, figsize=(30,12))\n",
    "for i in range(2):\n",
    "    for j in range(5):\n",
    "        idx = np.random.randint(0, len(SC_test_combinations))\n",
    "        a_c = SC_test_combinations[idx][0]\n",
    "        a_t = SC_test_combinations[idx][1]\n",
    "        c_b = SC_test_combinations[idx][2]\n",
    "\n",
    "        indices = np.where((d[:, 0] == a_c) & \n",
    "                    (d[:, 1] == a_t) &\n",
    "                    (d[:, 2] == c_b)) \n",
    "        indices = indices[0]\n",
    "\n",
    "        axs[i,j].scatter(d[indices][:,-2], d[indices][:,-1], color='purple', s=10)\n",
    "        axs[i,j].plot(phi_deeponet, y_deeponet[idx], label=\"K-T\", color='purple', linestyle=\":\")\n",
    "\n",
    "        axs[i,j].set_title(\"a/c:{} a/t:{} c/b:{}\".format(a_c, a_t, c_b))\n",
    "        axs[i,j].set_ylabel(\"K-T\")\n",
    "        axs[i,j].set_xlabel(r\"$\\phi$\")\n",
    "        \n",
    "        if i == 0 and j == 0:\n",
    "            axs[i,j].legend()\n",
    "\n",
    "plt.show()"
   ]
  },
  {
   "cell_type": "code",
   "execution_count": null,
   "id": "3e48369c",
   "metadata": {},
   "outputs": [],
   "source": [
    "device = 'cuda'"
   ]
  },
  {
   "cell_type": "code",
   "execution_count": null,
   "id": "018b5055",
   "metadata": {},
   "outputs": [],
   "source": [
    "X_test_gpu = torch.FloatTensor(X_deeponet).to(device)\n",
    "\n",
    "y_test_gpu = torch.FloatTensor(y_deeponet).to(device)\n",
    "\n",
    "phi_gpu = torch.FloatTensor(np.expand_dims(phi_deeponet, axis=-1)).to(device)\n",
    "\n",
    "X_test_gpu.shape, y_test_gpu.shape, phi_gpu.shape"
   ]
  },
  {
   "cell_type": "code",
   "execution_count": null,
   "id": "eb930a5a",
   "metadata": {},
   "outputs": [],
   "source": [
    "branch_layers = [X_test_gpu.shape[1]] + [100, 100, 100, 100, 100, 100, 100, 100, 100]\n",
    "trunk_layers = [1] + [100, 100, 100, 100, 100, 100, 100, 100, 100]\n",
    "\n",
    "EPOCHS = 250000\n",
    "lr = 1e-4\n",
    "\n",
    "model_loaded = DeepONet(branch_layers, trunk_layers, 128, device, True, \n",
    "                        \"../files/trained_models/SURFACE_CRACK/branch_deeponet.pt\", \"../files/trained_models/SURFACE_CRACK/trunk_deeponet.pt\")\n",
    "\n",
    "with torch.no_grad():\n",
    "    y_pred_deeponet = model_loaded.forward(X_test_gpu, phi_gpu)"
   ]
  },
  {
   "cell_type": "markdown",
   "id": "c4d54ef3",
   "metadata": {},
   "source": [
    "# FNO"
   ]
  },
  {
   "cell_type": "code",
   "execution_count": null,
   "id": "ed650a3f",
   "metadata": {},
   "outputs": [],
   "source": [
    "from src.fno import FNO"
   ]
  },
  {
   "cell_type": "code",
   "execution_count": null,
   "id": "f3876699",
   "metadata": {},
   "outputs": [],
   "source": [
    "X_fno = np.zeros((len(SC_test_combinations), 128, 4))\n",
    "y_fno = np.zeros((len(SC_test_combinations), 128))\n",
    "\n",
    "for (i, combination) in enumerate(SC_test_combinations):\n",
    "    indices = np.where((d[:, 0] == combination[0]) & \n",
    "                    (d[:, 1] == combination[1]) &\n",
    "                    (d[:, 2] == combination[2])) \n",
    "    indices = indices[0]\n",
    "\n",
    "    assert (phi_values == d[indices][:,-2]).all()\n",
    "    \n",
    "    X_fno[i,:,:-1] = combination\n",
    "    X_fno[i,:,-1] = phi_values\n",
    "\n",
    "    y_fno[i,:] = d[indices][:,-1]"
   ]
  },
  {
   "cell_type": "code",
   "execution_count": null,
   "id": "5a45e5e3",
   "metadata": {},
   "outputs": [],
   "source": [
    "import matplotlib.pyplot as plt\n",
    "np.random.seed(0)\n",
    "fig, axs = plt.subplots(2, 5, figsize=(30,12))\n",
    "for i in range(2):\n",
    "    for j in range(5):\n",
    "        idx = np.random.randint(0, len(SC_test_combinations))\n",
    "        a_c = SC_test_combinations[idx][0]\n",
    "        a_t = SC_test_combinations[idx][1]\n",
    "        c_b = SC_test_combinations[idx][2]\n",
    "\n",
    "        indices = np.where((d[:, 0] == a_c) & \n",
    "                    (d[:, 1] == a_t) &\n",
    "                    (d[:, 2] == c_b)) \n",
    "        indices = indices[0]\n",
    "\n",
    "        axs[i,j].scatter(d[indices][:,-2], d[indices][:,-1], color='purple', s=10)\n",
    "        axs[i,j].plot(phi_values, y_fno[idx], label=\"K-T\", color='purple', linestyle=\":\")\n",
    "\n",
    "        axs[i,j].set_title(\"a/c:{} a/t:{} c/b:{}\".format(a_c, a_t, c_b))\n",
    "        axs[i,j].set_ylabel(\"K-T\")\n",
    "        axs[i,j].set_xlabel(r\"$\\phi$\")\n",
    "        \n",
    "        if i == 0 and j == 0:\n",
    "            axs[i,j].legend()\n",
    "\n",
    "plt.show()"
   ]
  },
  {
   "cell_type": "code",
   "execution_count": null,
   "id": "8c8b6369",
   "metadata": {},
   "outputs": [],
   "source": [
    "modes = 64\n",
    "width = 64\n",
    "\n",
    "device = 'cuda'"
   ]
  },
  {
   "cell_type": "code",
   "execution_count": null,
   "id": "b8fc6cb6",
   "metadata": {},
   "outputs": [],
   "source": [
    "X_test_gpu = torch.FloatTensor(X_fno).to(device)\n",
    "\n",
    "y_test_gpu = torch.FloatTensor(y_fno).to(device)\n",
    "\n",
    "X_test_gpu.shape, y_test_gpu.shape"
   ]
  },
  {
   "cell_type": "code",
   "execution_count": null,
   "id": "8fb4ebb3",
   "metadata": {},
   "outputs": [],
   "source": [
    "from src.fno import FNO1d\n",
    "\n",
    "fno_loaded_model = FNO1d(len(phi_values), X_test_gpu.shape[-1], modes, width).to(device)\n",
    "if device == \"cpu\":\n",
    "    fno_loaded_model.load_state_dict(torch.load(\"../files/trained_models/SURFACE_CRACK/fno_sc.pt\", map_location=torch.device('cpu'), weights_only=False))\n",
    "else:\n",
    "    fno_loaded_model.load_state_dict(torch.load(\"../files/trained_models/SURFACE_CRACK/fno_sc.pt\",weights_only=False))\n",
    "with torch.no_grad():\n",
    "    y_pred_fno = fno_loaded_model(X_test_gpu)"
   ]
  },
  {
   "cell_type": "markdown",
   "id": "94b9ae1d",
   "metadata": {},
   "source": [
    "# POD-DeepONet"
   ]
  },
  {
   "cell_type": "code",
   "execution_count": null,
   "id": "137a45e8",
   "metadata": {},
   "outputs": [],
   "source": [
    "from src.pod_deeponet import POD_DeepONet"
   ]
  },
  {
   "cell_type": "code",
   "execution_count": null,
   "id": "7b3a3113",
   "metadata": {},
   "outputs": [],
   "source": [
    "X_deeponet = np.zeros((len(SC_test_combinations), 3))\n",
    "y_deeponet = np.zeros((len(SC_test_combinations), 128))\n",
    "\n",
    "for (i,combination) in enumerate(SC_test_combinations):\n",
    "    indices = np.where((d[:, 0] == combination[0]) & \n",
    "                    (d[:, 1] == combination[1]) &\n",
    "                    (d[:, 2] == combination[2])) \n",
    "    indices = indices[0]\n",
    "\n",
    "    X_deeponet[i,0] = combination[0]\n",
    "    X_deeponet[i,1] = combination[1]\n",
    "    X_deeponet[i,2] = combination[2]\n",
    "\n",
    "    y_deeponet[i,:] = d[indices][:,-1]"
   ]
  },
  {
   "cell_type": "code",
   "execution_count": null,
   "id": "042af563",
   "metadata": {},
   "outputs": [],
   "source": [
    "branch_layers = [SC_test_combinations.shape[1]] + [128, 128, 128]\n",
    "K = 128\n",
    "device = 'cuda'"
   ]
  },
  {
   "cell_type": "code",
   "execution_count": null,
   "id": "75783453",
   "metadata": {},
   "outputs": [],
   "source": [
    "y_train_pod = np.load(\"../files/trained_models/SURFACE_CRACK/y_train.npy\")\n",
    "y_train_gpu = torch.FloatTensor(y_train_pod).to(device)\n",
    "\n",
    "X_test_gpu = torch.FloatTensor(X_deeponet).to(device)\n",
    "\n",
    "y_test_gpu = torch.FloatTensor(y_deeponet).to(device)\n",
    "\n",
    "X_test_gpu.shape, y_test_gpu.shape"
   ]
  },
  {
   "cell_type": "code",
   "execution_count": null,
   "id": "5364d869",
   "metadata": {},
   "outputs": [],
   "source": [
    "model_loaded = POD_DeepONet(y_train_gpu, branch_layers, K, device, \n",
    "                        True, \"../files/trained_models/SURFACE_CRACK/pod_branch_sc.pt\")\n",
    "\n",
    "with torch.no_grad():\n",
    "    y_pred_pod = model_loaded.forward(X_test_gpu)"
   ]
  },
  {
   "cell_type": "markdown",
   "id": "851bfc5f",
   "metadata": {},
   "source": [
    "# Results"
   ]
  },
  {
   "cell_type": "code",
   "execution_count": null,
   "id": "e3b405ff",
   "metadata": {},
   "outputs": [],
   "source": [
    "def absolute_perctentage_error(y_true, y_pred):\n",
    "    return np.abs((y_true -  y_pred) / y_true)\n",
    "\n",
    "def perctentage_error(y_true, y_pred):\n",
    "    return (y_true -  y_pred) / y_true\n",
    "\n",
    "def mean_normalized_l2(y_true, y_pred):\n",
    "    return np.mean(np.linalg.norm(y_true -  y_pred, ord=2, axis=1) / np.linalg.norm(y_true, ord=2, axis=1))"
   ]
  },
  {
   "cell_type": "code",
   "execution_count": null,
   "id": "d8142a49",
   "metadata": {},
   "outputs": [],
   "source": [
    "import matplotlib.pyplot as plt\n",
    "np.random.seed(0)\n",
    "fig, axs = plt.subplots(2, 5, figsize=(30,12))\n",
    "for i in range(2):\n",
    "    for j in range(5):\n",
    "        idx = np.random.randint(0, len(SC_test_combinations))\n",
    "        a_c = SC_test_combinations[idx][0]\n",
    "        a_t = SC_test_combinations[idx][1]\n",
    "        c_b = SC_test_combinations[idx][2]\n",
    "\n",
    "        indices = np.where((d[:, 0] == a_c) & \n",
    "                    (d[:, 1] == a_t) &\n",
    "                    (d[:, 2] == c_b)) \n",
    "        indices = indices[0]\n",
    "\n",
    "        axs[i,j].scatter(d[indices][:,-2], d[indices][:,-1], color='black', s=10, label=\"True\")\n",
    "        axs[i,j].plot(phi_values, y_pred_rfr[idx*128:idx*128+128], label=\"RFR\", color='red', linestyle=\"-\")\n",
    "        axs[i,j].plot(phi_values, y_pred_svr[idx*128:idx*128+128], label=\"SVR\", color='green', linestyle=\"--\")\n",
    "        axs[i,j].plot(phi_values, y_pred_nn[idx*128:idx*128+128], label=\"NN\", color='blue', linestyle=\"-.\")\n",
    "        axs[i,j].plot(phi_values, y_pred_deeponet[idx].cpu(), label=\"DeepONet\", color='purple', linestyle=\":\")\n",
    "        axs[i,j].plot(phi_values, y_pred_fno[idx].cpu(), label=\"FNO\", color='orange', linestyle=\"dashdot\")\n",
    "        axs[i,j].plot(phi_values, y_pred_pod[idx].cpu(), label=\"POD-DeepONet\", color='brown', linestyle=\"solid\")\n",
    "        \n",
    "\n",
    "        axs[i,j].set_title(\"a/c:{} a/t:{} c/b:{}\".format(a_c, a_t, c_b))\n",
    "        axs[i,j].set_ylabel(\"K-T\")\n",
    "        axs[i,j].set_xlabel(r\"$\\phi$\")\n",
    "        \n",
    "        if i == 0 and j == 0:\n",
    "            axs[i,j].legend()\n",
    "\n",
    "plt.show()"
   ]
  },
  {
   "cell_type": "code",
   "execution_count": null,
   "id": "4b29203d",
   "metadata": {},
   "outputs": [],
   "source": [
    "rfr_err_test = absolute_perctentage_error(d[:,-1], y_pred_rfr)\n",
    "rfr_err_test = rfr_err_test.reshape(-1)\n",
    "\n",
    "svr_err_test = absolute_perctentage_error(d[:,-1], y_pred_svr)\n",
    "svr_err_test = svr_err_test.reshape(-1)\n",
    "\n",
    "nn_err_test = absolute_perctentage_error(d[:,-1], y_pred_nn)\n",
    "nn_err_test = nn_err_test.reshape(-1)\n",
    "\n",
    "deeponet_err_test = absolute_perctentage_error(y_deeponet, y_pred_deeponet.cpu().numpy())\n",
    "deeponet_err_test = deeponet_err_test.reshape(-1)\n",
    "\n",
    "fno_err_test = absolute_perctentage_error(y_fno, y_pred_fno.cpu().numpy()[:,:,0])\n",
    "fno_err_test = fno_err_test.reshape(-1)\n",
    "\n",
    "pod_err_test = absolute_perctentage_error(y_deeponet, y_pred_pod.cpu().numpy())\n",
    "pod_err_test = pod_err_test.reshape(-1)\n",
    "\n",
    "plt.rcParams[\"figure.figsize\"] = (8,5)\n",
    "\n",
    "x = np.sort(rfr_err_test) \n",
    "y = np.arange(len(rfr_err_test)) / float(len(rfr_err_test)) \n",
    "plt.plot(x,1-y, color='red', label=\"RFR\")\n",
    "\n",
    "x = np.sort(svr_err_test) \n",
    "y = np.arange(len(svr_err_test)) / float(len(svr_err_test)) \n",
    "plt.plot(x,1-y, color='green', label=\"SVR\")\n",
    "\n",
    "x = np.sort(nn_err_test) \n",
    "y = np.arange(len(nn_err_test)) / float(len(nn_err_test)) \n",
    "plt.plot(x,1-y, color='blue', label=\"NN\")\n",
    "\n",
    "x = np.sort(deeponet_err_test) \n",
    "y = np.arange(len(deeponet_err_test)) / float(len(deeponet_err_test)) \n",
    "plt.plot(x,1-y, color='purple', label=\"DeepONet\")\n",
    "\n",
    "x = np.sort(fno_err_test) \n",
    "y = np.arange(len(fno_err_test)) / float(len(fno_err_test)) \n",
    "plt.plot(x,1-y, color='orange', label=\"FNO\")\n",
    "\n",
    "x = np.sort(pod_err_test) \n",
    "y = np.arange(len(pod_err_test)) / float(len(pod_err_test)) \n",
    "plt.plot(x,1-y, color='brown', label=\"POD-DeepONet\")\n",
    "\n",
    "plt.grid(which = \"major\", linewidth = 1)\n",
    "plt.grid(which = \"minor\", linewidth = 0.2)\n",
    "plt.minorticks_on()\n",
    "plt.xlabel(\"Normalized Absolute Error\", fontsize=25)\n",
    "plt.ylabel(\"Probability\", fontsize=25)\n",
    "plt.semilogy()\n",
    "# plt.xticks([0, 0.005, 0.01, 0.015], fontsize=25)\n",
    "plt.yticks(fontsize=25)\n",
    "plt.legend(fontsize=25)\n",
    "plt.title(\"Surface Crack (DeepONet)\", fontsize=25)\n",
    "plt.show()"
   ]
  },
  {
   "cell_type": "code",
   "execution_count": null,
   "id": "99c4f712",
   "metadata": {},
   "outputs": [],
   "source": [
    "# rfr_l2_test = mean_normalized_l2(d[:,-1], y_pred_rfr)\n",
    "\n",
    "# svr_l2_test = mean_normalized_l2(d[:,-1], y_pred_svr)\n",
    "\n",
    "# nn_l2_test = mean_normalized_l2(d[:,-1], y_pred_nn)\n",
    "\n",
    "deeponet_l2_test = mean_normalized_l2(y_deeponet, y_pred_deeponet.cpu().numpy())\n",
    "\n",
    "fno_l2_test = mean_normalized_l2(y_fno, y_pred_fno.cpu().numpy()[:,:,0])\n",
    "\n",
    "pod_l2_test = mean_normalized_l2(y_deeponet, y_pred_pod.cpu().numpy())\n",
    "\n",
    "# print(\"RFR: \", rfr_l2_test)\n",
    "# print(\"SVR: \", svr_l2_test)\n",
    "# print(\"NN: \", nn_l2_test)\n",
    "print(\"DeepONet: \", deeponet_l2_test)\n",
    "print(\"FNO: \", fno_l2_test)\n",
    "print(\"POD-DeepONet: \", pod_l2_test)"
   ]
  },
  {
   "cell_type": "code",
   "execution_count": null,
   "id": "7b0d3965",
   "metadata": {},
   "outputs": [],
   "source": []
  }
 ],
 "metadata": {
  "kernelspec": {
   "display_name": ".venv",
   "language": "python",
   "name": "python3"
  },
  "language_info": {
   "codemirror_mode": {
    "name": "ipython",
    "version": 3
   },
   "file_extension": ".py",
   "mimetype": "text/x-python",
   "name": "python",
   "nbconvert_exporter": "python",
   "pygments_lexer": "ipython3",
   "version": "3.12.3"
  }
 },
 "nbformat": 4,
 "nbformat_minor": 5
}
