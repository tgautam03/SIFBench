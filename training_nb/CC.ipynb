{
 "cells": [
  {
   "cell_type": "code",
   "execution_count": null,
   "id": "20f1d78f",
   "metadata": {},
   "outputs": [
    {
     "name": "stderr",
     "output_type": "stream",
     "text": [
      "  0%|          | 0/3 [00:00<?, ?it/s]"
     ]
    },
    {
     "name": "stdout",
     "output_type": "stream",
     "text": [
      "Dataset Size:  (10986368, 9)\n",
      "---------------\n",
      "Tension Loading\n",
      "---------------\n"
     ]
    },
    {
     "name": "stderr",
     "output_type": "stream",
     "text": []
    }
   ],
   "source": [
    "import numpy as np\n",
    "import pandas as pd\n",
    "from joblib import dump, load\n",
    "from tqdm import tqdm\n",
    "\n",
    "import torch\n",
    "import torch.nn as nn\n",
    "import torch.nn.functional as F\n",
    "from src.deeponet import DeepONet\n",
    "\n",
    "from sklearn.model_selection import train_test_split\n",
    "\n",
    "import itertools\n",
    "import os\n",
    "\n",
    "device = 'cuda'\n",
    "\n",
    "\n",
    "# SINGLE or TWIN\n",
    "which_data = \"SINGLE\"\n",
    "\n",
    "# Specify the directory path\n",
    "dir_path = \"../files/data/FINAL_CSV/{}/TRAIN\".format(which_data)\n",
    "\n",
    "# Get all .csv files\n",
    "csv_files = [f for f in os.listdir(dir_path) if f.endswith(\".csv\")]\n",
    "\n",
    "for csv_file in csv_files[6:7]:\n",
    "    if \"THROUGH\" in csv_file:\n",
    "        print(\"Skipping \", csv_file)\n",
    "        continue\n",
    "\n",
    "    df = pd.read_csv(dir_path + \"/{}\".format(csv_file))\n",
    "    train_combinations = df.iloc[:, 1:5].drop_duplicates().to_numpy()\n",
    "\n",
    "    # Drop crack index\n",
    "    d = df.to_numpy()[:,1:]\n",
    "    print(\"Dataset Size: \", d.shape)\n",
    "\n",
    "    # X, y\n",
    "    print(\"---------------\")\n",
    "    print(\"Tension Loading\")\n",
    "    print(\"---------------\")\n",
    "    X_deeponet = np.zeros((len(train_combinations), 4))\n",
    "    phi_deeponet = np.zeros((128, 1))\n",
    "    y_deeponet = np.zeros((len(train_combinations), 128))\n",
    "\n",
    "    for (i,combination) in tqdm(enumerate(train_combinations), total=len(train_combinations), desc=\"Processing\"):\n",
    "        indices = np.where((d[:, 0] == combination[0]) & \n",
    "                        (d[:, 1] == combination[1]) &\n",
    "                        (d[:, 2] == combination[2]) &\n",
    "                        (d[:, 3] == combination[3])) \n",
    "        indices = indices[0]\n",
    "\n",
    "        X_deeponet[i,0] = combination[0]\n",
    "        X_deeponet[i,1] = combination[1]\n",
    "        X_deeponet[i,2] = combination[2]\n",
    "        X_deeponet[i,3] = combination[3]\n",
    "\n",
    "        if i == 0:\n",
    "            phi_deeponet = d[indices][:,-4]\n",
    "        else:\n",
    "            if np.isclose(phi_deeponet[:], d[indices][:,-4], rtol=1e-2).all() == False:\n",
    "                print(phi_deeponet)\n",
    "                print(d[indices][:,-4])"
   ]
  },
  {
   "cell_type": "code",
   "execution_count": null,
   "id": "5ea43209",
   "metadata": {},
   "outputs": [],
   "source": []
  }
 ],
 "metadata": {
  "kernelspec": {
   "display_name": ".venv",
   "language": "python",
   "name": "python3"
  },
  "language_info": {
   "codemirror_mode": {
    "name": "ipython",
    "version": 3
   },
   "file_extension": ".py",
   "mimetype": "text/x-python",
   "name": "python",
   "nbconvert_exporter": "python",
   "pygments_lexer": "ipython3",
   "version": "3.12.3"
  }
 },
 "nbformat": 4,
 "nbformat_minor": 5
}
