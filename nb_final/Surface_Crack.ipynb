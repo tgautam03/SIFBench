{
 "cells": [
  {
   "cell_type": "markdown",
   "id": "d51642b2",
   "metadata": {},
   "source": [
    "# Dependencies"
   ]
  },
  {
   "cell_type": "code",
   "execution_count": 1,
   "id": "df5c9ced",
   "metadata": {},
   "outputs": [],
   "source": [
    "import numpy as np\n",
    "import pandas as pd\n",
    "import matplotlib.pyplot as plt\n",
    "from joblib import dump, load\n",
    "import time\n",
    "from scipy.interpolate import PchipInterpolator\n",
    "import scipy\n",
    "\n",
    "from sklearn.svm import SVR\n",
    "from sklearn.model_selection import train_test_split\n",
    "\n",
    "from itertools import chain"
   ]
  },
  {
   "cell_type": "markdown",
   "id": "29236429",
   "metadata": {},
   "source": [
    "# Data"
   ]
  },
  {
   "cell_type": "code",
   "execution_count": 2,
   "id": "aa2848b2",
   "metadata": {},
   "outputs": [
    {
     "data": {
      "text/plain": [
       "(         a/c   a/t  c/b       phi         KI\n",
       " 0       0.90  0.60  0.3  2.120567  34.597826\n",
       " 1       0.75  0.65  0.3  0.853478  40.001090\n",
       " 2       1.95  0.30  0.3  1.329954  14.470167\n",
       " 3       0.90  0.40  0.3  2.979193  29.456790\n",
       " 4       1.00  0.60  0.3  0.371790  36.227644\n",
       " ...      ...   ...  ...       ...        ...\n",
       " 601662  0.65  0.50  0.3  2.445190  35.095373\n",
       " 601663  1.80  0.25  0.3  0.037024  20.628363\n",
       " 601664  0.30  0.65  0.4  0.007405  49.395277\n",
       " 601665  1.15  0.60  0.3  1.324708  29.393773\n",
       " 601666  0.55  0.80  0.2  0.413674  52.415671\n",
       " \n",
       " [601667 rows x 5 columns],\n",
       " (601667, 5))"
      ]
     },
     "execution_count": 2,
     "metadata": {},
     "output_type": "execute_result"
    }
   ],
   "source": [
    "df_train = pd.read_csv(\"../files/data/Surface_Crack/RN_TRAIN.csv\", index_col=0)\n",
    "df_train = df_train.drop(columns=['mgfw', 'mg', 'E', 'sigma', 'a'])\n",
    "df_train = df_train.reindex(['a/c', 'a/t', 'c/b', 'phi', \"KI\"], axis=1)\n",
    "d_train = df_train.to_numpy()\n",
    "df_train, d_train.shape"
   ]
  },
  {
   "cell_type": "code",
   "execution_count": 3,
   "id": "3be23c80",
   "metadata": {},
   "outputs": [
    {
     "data": {
      "text/plain": [
       "2518"
      ]
     },
     "execution_count": 3,
     "metadata": {},
     "output_type": "execute_result"
    }
   ],
   "source": [
    "# Getting all a/c, a/t and c/b combinations\n",
    "SC_train_combinations = [d_train[0,:3]]\n",
    "\n",
    "for line in d_train:\n",
    "    if (line[:3] == SC_train_combinations[-1]).all():\n",
    "        continue\n",
    "    else:\n",
    "        SC_train_combinations.append(line[:3])\n",
    "\n",
    "SC_train_combinations = np.unique(SC_train_combinations, axis=0)\n",
    "\n",
    "len(SC_train_combinations)"
   ]
  },
  {
   "cell_type": "code",
   "execution_count": 4,
   "id": "2f1d8e89",
   "metadata": {},
   "outputs": [
    {
     "name": "stdout",
     "output_type": "stream",
     "text": [
      "Different a/c values:  [0.2  0.25 0.3  0.35 0.4  0.45 0.5  0.55 0.6  0.65 0.7  0.75 0.8  0.85\n",
      " 0.9  0.95 1.   1.05 1.1  1.15 1.2  1.25 1.3  1.35 1.4  1.45 1.5  1.55\n",
      " 1.6  1.65 1.7  1.75 1.8  1.85 1.9  1.95 2.  ]\n",
      "Different a/t values:  [0.2  0.25 0.3  0.35 0.4  0.45 0.5  0.55 0.6  0.65 0.7  0.75 0.8  0.85]\n",
      "Different c/b values:  [0.01 0.1  0.2  0.3  0.4 ]\n"
     ]
    }
   ],
   "source": [
    "print(\"Different a/c values: \", np.unique(SC_train_combinations[:,0], axis=0))\n",
    "print(\"Different a/t values: \", np.unique(SC_train_combinations[:,1], axis=0))\n",
    "print(\"Different c/b values: \", np.unique(SC_train_combinations[:,2], axis=0))"
   ]
  },
  {
   "cell_type": "code",
   "execution_count": 5,
   "id": "91a47491",
   "metadata": {},
   "outputs": [],
   "source": [
    "min_phi = []\n",
    "max_phi = []\n",
    "\n",
    "for (i,combination) in enumerate(SC_train_combinations):\n",
    "    indices = np.where((d_train[:, 0] == combination[0]) & \n",
    "                    (d_train[:, 1] == combination[1]) &\n",
    "                    (d_train[:, 2] == combination[2])) \n",
    "    indices = indices[0]\n",
    "    phis = d_train[indices][:,-2]\n",
    "\n",
    "    min_phi.append(phis.min())\n",
    "    max_phi.append(phis.max())\n",
    "\n",
    "min_phi = np.max(np.unique(min_phi))\n",
    "max_phi = np.min(np.unique(max_phi))\n",
    "\n",
    "SC_train_phi_regular_64 = np.linspace(min_phi, max_phi, 64)\n",
    "SC_train_K_regular_64 = np.zeros((len(SC_train_combinations), len(SC_train_phi_regular_64)))\n",
    "for (i,combination) in enumerate(SC_train_combinations):\n",
    "    indices = np.where((d_train[:, 0] == combination[0]) & \n",
    "                    (d_train[:, 1] == combination[1]) &\n",
    "                    (d_train[:, 2] == combination[2])) \n",
    "    indices = indices[0]\n",
    "\n",
    "    phi_vals = d_train[indices][:,-2]\n",
    "    K_vals = d_train[indices][:,-1]\n",
    "    phi_idxes = np.argsort(phi_vals)\n",
    "    \n",
    "    monotonic_phi_idxes = [phi_idxes[0]]\n",
    "    prev_phi = phi_vals[phi_idxes[0]]\n",
    "    for index in phi_idxes[1:]:\n",
    "        now_phi = phi_vals[index]\n",
    "        if now_phi > prev_phi:\n",
    "            monotonic_phi_idxes.append(index)\n",
    "            prev_phi = phi_vals[index]\n",
    "    \n",
    "    interp_func = PchipInterpolator(phi_vals[monotonic_phi_idxes], K_vals[monotonic_phi_idxes], extrapolate=False)\n",
    "\n",
    "    SC_train_K_regular_64[i,:] = interp_func(SC_train_phi_regular_64)"
   ]
  },
  {
   "cell_type": "code",
   "execution_count": 6,
   "id": "3de2f5ca",
   "metadata": {},
   "outputs": [
    {
     "data": {
      "text/plain": [
       "(np.float64(10.854542515306234), np.float64(90.69109971391299))"
      ]
     },
     "execution_count": 6,
     "metadata": {},
     "output_type": "execute_result"
    }
   ],
   "source": [
    "np.min(SC_train_K_regular_64), np.max(SC_train_K_regular_64)"
   ]
  },
  {
   "cell_type": "code",
   "execution_count": null,
   "id": "35d000ae",
   "metadata": {},
   "outputs": [],
   "source": []
  }
 ],
 "metadata": {
  "kernelspec": {
   "display_name": ".venv",
   "language": "python",
   "name": "python3"
  },
  "language_info": {
   "codemirror_mode": {
    "name": "ipython",
    "version": 3
   },
   "file_extension": ".py",
   "mimetype": "text/x-python",
   "name": "python",
   "nbconvert_exporter": "python",
   "pygments_lexer": "ipython3",
   "version": "3.12.3"
  }
 },
 "nbformat": 4,
 "nbformat_minor": 5
}
