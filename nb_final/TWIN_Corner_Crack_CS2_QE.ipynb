{
 "cells": [
  {
   "cell_type": "markdown",
   "id": "e63c29f0",
   "metadata": {},
   "source": [
    "# Dependencies"
   ]
  },
  {
   "cell_type": "code",
   "execution_count": 3,
   "id": "77d6d5e8",
   "metadata": {},
   "outputs": [],
   "source": [
    "import numpy as np\n",
    "import pandas as pd\n",
    "import matplotlib.pyplot as plt\n",
    "from joblib import dump, load\n",
    "import time\n",
    "from scipy.interpolate import PchipInterpolator\n",
    "import scipy\n",
    "from collections import defaultdict\n",
    "\n",
    "from tqdm import tqdm\n",
    "\n",
    "from sklearn.svm import SVR\n",
    "from sklearn.model_selection import train_test_split\n",
    "\n",
    "from itertools import chain\n",
    "\n",
    "import os"
   ]
  },
  {
   "cell_type": "markdown",
   "id": "3bc8168f",
   "metadata": {},
   "source": [
    "# Data"
   ]
  },
  {
   "cell_type": "code",
   "execution_count": 2,
   "id": "58d68a0e",
   "metadata": {},
   "outputs": [
    {
     "data": {
      "text/plain": [
       "(22, 5.181818181818182)"
      ]
     },
     "execution_count": 2,
     "metadata": {},
     "output_type": "execute_result"
    }
   ],
   "source": [
    "# Specify the directory path\n",
    "dir_path = \"../files/data/TWIN/CS/CLEANED\"\n",
    "\n",
    "# Get all .csv files\n",
    "csv_files = [f for f in os.listdir(dir_path) if f.endswith(\".csv\")]\n",
    "\n",
    "one_fifth = int(len(csv_files)/5)\n",
    "\n",
    "one_fifth, len(csv_files)/one_fifth"
   ]
  },
  {
   "cell_type": "code",
   "execution_count": 3,
   "id": "d13a3883",
   "metadata": {},
   "outputs": [
    {
     "name": "stderr",
     "output_type": "stream",
     "text": [
      "100%|██████████| 6/6 [18:35<00:00, 185.87s/it]\n"
     ]
    }
   ],
   "source": [
    "for idx in tqdm(range(6)):\n",
    "    df = pd.read_csv(\"../files/data/TWIN/CS/CLEANED/{}\".format(csv_files[idx*one_fifth]), index_col=False)\n",
    "    df = df[(df['a1/t'] <= 0.5) & (df['a2/t'] <= 0.5)]\n",
    "\n",
    "    for csv_file in csv_files[idx*one_fifth+1:idx*one_fifth+one_fifth]:\n",
    "        df_ = pd.read_csv(\"../files/data/TWIN/CS/CLEANED/{}\".format(csv_file), index_col=False)\n",
    "        df_ = df_[(df_['a1/t'] <= 0.5) & (df_['a2/t'] <= 0.5)]\n",
    "        df = pd.concat([df, df_], axis=0, ignore_index=True)\n",
    "\n",
    "    df.to_csv(\"../files/data/FINAL_CSV/TWIN/TWIN_CORNER_CRACK_CS2_QUARTER_ELLIPSE_PART_{}.csv\".format(idx+1), index=False)"
   ]
  },
  {
   "cell_type": "markdown",
   "id": "ce40a824",
   "metadata": {},
   "source": [
    "# Data Viz"
   ]
  },
  {
   "cell_type": "code",
   "execution_count": 4,
   "id": "72dd4d24",
   "metadata": {},
   "outputs": [
    {
     "name": "stderr",
     "output_type": "stream",
     "text": [
      "100%|██████████| 6/6 [17:31<00:00, 175.20s/it]\n"
     ]
    }
   ],
   "source": [
    "for idx in tqdm(range(6)):\n",
    "    df = pd.read_csv(\"../files/data/FINAL_CSV/TWIN/TWIN_CORNER_CRACK_CS2_QUARTER_ELLIPSE_PART_{}.csv\".format(idx+1))\n",
    "\n",
    "    crack_idx = df['c_index'].unique()\n",
    "\n",
    "    crack_idx_train, crack_idx_test = train_test_split(crack_idx, test_size=0.25, random_state=10)\n",
    "\n",
    "    # Create a boolean mask for rows where the value in '\"c_index\"' is in list1\n",
    "    train_list_mask = df[\"c_index\"].isin(crack_idx_train)\n",
    "\n",
    "    # Create a boolean mask for rows where the value in '\"c_index\"' is in list2\n",
    "    test_list_mask = df[\"c_index\"].isin(crack_idx_test)\n",
    "\n",
    "    # Use the masks to create the two new DataFrames\n",
    "    df_train = df[train_list_mask].copy() # Using .copy() to avoid SettingWithCopyWarning\n",
    "    df_test = df[test_list_mask].copy() # Using .copy() to avoid SettingWithCopyWarning\n",
    "\n",
    "\n",
    "    assert (np.sort(crack_idx_train) == np.sort(df_train['c_index'].unique())).all()\n",
    "    assert (np.sort(crack_idx_test) == np.sort(df_test['c_index'].unique())).all()\n",
    "\n",
    "    # Save the cleaned and processed DataFrame to a new CSV file\n",
    "    df_train.to_csv(\"../files/data/FINAL_CSV/TWIN/TRAIN/TWIN_CORNER_CRACK_CS2_QUARTER_ELLIPSE_PART_{}_TRAIN.csv\".format(idx+1), index=False)\n",
    "    df_test.to_csv(\"../files/data/FINAL_CSV/TWIN/TEST/TWIN_CORNER_CRACK_CS2_QUARTER_ELLIPSE_PART_{}_TEST.csv\".format(idx+1), index=False)"
   ]
  },
  {
   "cell_type": "code",
   "execution_count": null,
   "id": "e339a838",
   "metadata": {},
   "outputs": [],
   "source": [
    "d = df.to_numpy()\n",
    "\n",
    "num_crack = np.unique(d[:,0])\n",
    "\n",
    "print(\"Total cracks: \", len(num_crack))\n",
    "\n",
    "np.random.seed(0)\n",
    "fig, axs = plt.subplots(2, 5, figsize=(30,12))\n",
    "for i in range(2):\n",
    "    for j in range(5):\n",
    "        idx = np.random.randint(0, len(num_crack))\n",
    "        data = d[idx*128:idx*128+128]\n",
    "        W_R = np.unique(data[:,1])\n",
    "        a_c = np.unique(data[:,2])\n",
    "        a_t = np.unique(data[:,3])\n",
    "        r_t = np.unique(data[:,4])\n",
    "        b_t = np.unique(data[:,5])\n",
    "\n",
    "        assert len(W_R) == 1\n",
    "        assert len(a_c) == 1\n",
    "        assert len(a_t) == 1\n",
    "        assert len(r_t) == 1\n",
    "        assert len(b_t) == 1\n",
    "\n",
    "        axs[i,j].scatter(data[:,-4], data[:,-3], color='purple', s=10)\n",
    "        axs[i,j].plot(data[:,-4], data[:,-3], label=\"K-T\", color='purple', linestyle=\":\")\n",
    "\n",
    "        axs[i,j].scatter(data[:,-4], data[:,-2], color='green', s=10)\n",
    "        axs[i,j].plot(data[:,-4], data[:,-2], label=\"K-B\", color='green', linestyle=\":\")\n",
    "\n",
    "        axs[i,j].scatter(data[:,-4], data[:,-1], color='red', s=10)\n",
    "        axs[i,j].plot(data[:,-4], data[:,-1], label=\"K-P\", color='red', linestyle=\":\")\n",
    "\n",
    "        axs[i,j].set_title(\"W/R:{} a/c:{} a/t:{} r/t:{} b/t:{}\".format(W_R[0], a_c[0], a_t[0], r_t[0], b_t[0]))\n",
    "        axs[i,j].set_ylabel(\"SIFs\")\n",
    "        axs[i,j].set_xlabel(r\"$\\phi$\")\n",
    "        \n",
    "        if i == 0 and j == 0:\n",
    "            axs[i,j].legend()\n",
    "\n",
    "plt.show()"
   ]
  },
  {
   "cell_type": "code",
   "execution_count": null,
   "id": "0ddff921",
   "metadata": {},
   "outputs": [],
   "source": []
  }
 ],
 "metadata": {
  "kernelspec": {
   "display_name": ".venv",
   "language": "python",
   "name": "python3"
  },
  "language_info": {
   "codemirror_mode": {
    "name": "ipython",
    "version": 3
   },
   "file_extension": ".py",
   "mimetype": "text/x-python",
   "name": "python",
   "nbconvert_exporter": "python",
   "pygments_lexer": "ipython3",
   "version": "3.12.3"
  }
 },
 "nbformat": 4,
 "nbformat_minor": 5
}
