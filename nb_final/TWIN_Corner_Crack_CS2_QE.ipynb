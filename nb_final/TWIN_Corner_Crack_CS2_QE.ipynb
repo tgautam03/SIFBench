{
 "cells": [
  {
   "cell_type": "markdown",
   "id": "e63c29f0",
   "metadata": {},
   "source": [
    "# Dependencies"
   ]
  },
  {
   "cell_type": "code",
   "execution_count": 1,
   "id": "77d6d5e8",
   "metadata": {},
   "outputs": [],
   "source": [
    "import numpy as np\n",
    "import pandas as pd\n",
    "import matplotlib.pyplot as plt\n",
    "from joblib import dump, load\n",
    "import time\n",
    "from scipy.interpolate import PchipInterpolator\n",
    "import scipy\n",
    "from collections import defaultdict\n",
    "\n",
    "from tqdm import tqdm\n",
    "\n",
    "from sklearn.svm import SVR\n",
    "from sklearn.model_selection import train_test_split\n",
    "\n",
    "from itertools import chain\n",
    "\n",
    "import os"
   ]
  },
  {
   "cell_type": "markdown",
   "id": "3bc8168f",
   "metadata": {},
   "source": [
    "# Data"
   ]
  },
  {
   "cell_type": "code",
   "execution_count": 2,
   "id": "58d68a0e",
   "metadata": {},
   "outputs": [],
   "source": [
    "# Specify the directory path\n",
    "dir_path = \"../files/data/TWIN/CS/CLEANED\"\n",
    "\n",
    "# Get all .csv files\n",
    "csv_files = [f for f in os.listdir(dir_path) if f.endswith(\".csv\")]"
   ]
  },
  {
   "cell_type": "code",
   "execution_count": 3,
   "id": "5a0db648",
   "metadata": {},
   "outputs": [
    {
     "name": "stderr",
     "output_type": "stream",
     "text": [
      "100%|██████████| 114/114 [02:01<00:00,  1.07s/it]\n"
     ]
    }
   ],
   "source": [
    "total = 0\n",
    "for csv_file in tqdm(csv_files):\n",
    "    df = pd.read_csv(\"../files/data/TWIN/CS/CLEANED/{}\".format(csv_file), index_col=False)\n",
    "    df = df[(df['a1/t'] <= 0.5) & (df['a2/t'] <= 0.5)]\n",
    "\n",
    "    # Get unique combinations of the first four columns\n",
    "    CC_combinations = df.iloc[:, 1:8].drop_duplicates().to_numpy()\n",
    "\n",
    "    assert len(CC_combinations) == len(df.iloc[:, 0].drop_duplicates().to_numpy())\n",
    "    \n",
    "    total += len(df.iloc[:, 0].drop_duplicates().to_numpy())\n",
    "    # print(len(df.iloc[:, 0].drop_duplicates().to_numpy()))\n",
    "\n",
    "    # print(\"=================================\")\n",
    "    # print(\"========== {} ===============\".format(csv_file))\n",
    "    # print(\"=================================\")\n",
    "    # print(\"Different W/r values: \", np.unique(CC_combinations[:,0], axis=0))\n",
    "    # print(\"Different a1/c1 values: \", np.unique(CC_combinations[:,1], axis=0))\n",
    "    # print(\"Different a1/t values: \", np.unique(CC_combinations[:,2], axis=0))\n",
    "    # print(\"Different a2/c2 values: \", np.unique(CC_combinations[:,3], axis=0))\n",
    "    # print(\"Different a2/t values: \", np.unique(CC_combinations[:,4], axis=0))\n",
    "    # print(\"Different r/t values: \", np.unique(CC_combinations[:,5], axis=0))\n",
    "    # print(\"Different b/t values: \", np.unique(CC_combinations[:,6], axis=0))    "
   ]
  },
  {
   "cell_type": "code",
   "execution_count": 4,
   "id": "44f00174",
   "metadata": {},
   "outputs": [
    {
     "data": {
      "text/plain": [
       "1091419"
      ]
     },
     "execution_count": 4,
     "metadata": {},
     "output_type": "execute_result"
    }
   ],
   "source": [
    "total"
   ]
  },
  {
   "cell_type": "code",
   "execution_count": null,
   "id": "d13a3883",
   "metadata": {},
   "outputs": [],
   "source": [
    "df = pd.read_csv(\"../files/data/TWIN/CS/CLEANED/{}\".format(csv_files[0]), index_col=False)\n",
    "df = df[(df['a1/t'] <= 0.5) & (df['a2/t'] <= 0.5)]\n",
    "\n",
    "for csv_file in csv_files[1:]:\n",
    "    df_ = pd.read_csv(\"../files/data/TWIN/CS/CLEANED/{}\".format(csv_file), index_col=False)\n",
    "    df_ = df_[(df_['a1/t'] <= 0.5) & (df_['a2/t'] <= 0.5)]\n",
    "    df = pd.concat([df, df_], axis=0, ignore_index=True)\n",
    "\n",
    "df"
   ]
  },
  {
   "cell_type": "code",
   "execution_count": null,
   "id": "4b2f67fc",
   "metadata": {},
   "outputs": [],
   "source": [
    "# Get unique combinations of the first four columns\n",
    "CC_combinations = df.iloc[:, 1:8].drop_duplicates().to_numpy()\n",
    "\n",
    "print(len(CC_combinations))"
   ]
  },
  {
   "cell_type": "code",
   "execution_count": null,
   "id": "0ee6d6da",
   "metadata": {},
   "outputs": [],
   "source": [
    "print(\"Different W/r values: \", np.unique(CC_combinations[:,0], axis=0))\n",
    "print(\"Different a1/c1 values: \", np.unique(CC_combinations[:,1], axis=0))\n",
    "print(\"Different a1/t values: \", np.unique(CC_combinations[:,2], axis=0))\n",
    "print(\"Different a2/c2 values: \", np.unique(CC_combinations[:,3], axis=0))\n",
    "print(\"Different a2/t values: \", np.unique(CC_combinations[:,4], axis=0))\n",
    "print(\"Different r/t values: \", np.unique(CC_combinations[:,5], axis=0))\n",
    "print(\"Different b/t values: \", np.unique(CC_combinations[:,6], axis=0))"
   ]
  },
  {
   "cell_type": "code",
   "execution_count": null,
   "id": "c1d1c231",
   "metadata": {},
   "outputs": [],
   "source": [
    "df.to_csv(\"../files/data/FINAL_CSV/TWIN_CORNER_CRACK_CS2_QUARTER_ELLIPSE.csv\", index=False)"
   ]
  },
  {
   "cell_type": "markdown",
   "id": "ce40a824",
   "metadata": {},
   "source": [
    "# Data Viz"
   ]
  },
  {
   "cell_type": "code",
   "execution_count": null,
   "id": "72dd4d24",
   "metadata": {},
   "outputs": [],
   "source": [
    "df = pd.read_csv(\"../files/data/FINAL_CSV/CORNER_CRACK_CS2_QUARTER_ELLIPSE.csv\")\n",
    "df"
   ]
  },
  {
   "cell_type": "code",
   "execution_count": null,
   "id": "e339a838",
   "metadata": {},
   "outputs": [],
   "source": [
    "d = df.to_numpy()\n",
    "\n",
    "num_crack = np.unique(d[:,0])\n",
    "\n",
    "print(\"Total cracks: \", len(num_crack))\n",
    "\n",
    "np.random.seed(0)\n",
    "fig, axs = plt.subplots(2, 5, figsize=(30,12))\n",
    "for i in range(2):\n",
    "    for j in range(5):\n",
    "        idx = np.random.randint(0, len(num_crack))\n",
    "        data = d[idx*128:idx*128+128]\n",
    "        W_R = np.unique(data[:,1])\n",
    "        a_c = np.unique(data[:,2])\n",
    "        a_t = np.unique(data[:,3])\n",
    "        r_t = np.unique(data[:,4])\n",
    "        b_t = np.unique(data[:,5])\n",
    "\n",
    "        assert len(W_R) == 1\n",
    "        assert len(a_c) == 1\n",
    "        assert len(a_t) == 1\n",
    "        assert len(r_t) == 1\n",
    "        assert len(b_t) == 1\n",
    "\n",
    "        axs[i,j].scatter(data[:,-4], data[:,-3], color='purple', s=10)\n",
    "        axs[i,j].plot(data[:,-4], data[:,-3], label=\"K-T\", color='purple', linestyle=\":\")\n",
    "\n",
    "        axs[i,j].scatter(data[:,-4], data[:,-2], color='green', s=10)\n",
    "        axs[i,j].plot(data[:,-4], data[:,-2], label=\"K-B\", color='green', linestyle=\":\")\n",
    "\n",
    "        axs[i,j].scatter(data[:,-4], data[:,-1], color='red', s=10)\n",
    "        axs[i,j].plot(data[:,-4], data[:,-1], label=\"K-P\", color='red', linestyle=\":\")\n",
    "\n",
    "        axs[i,j].set_title(\"W/R:{} a/c:{} a/t:{} r/t:{} b/t:{}\".format(W_R[0], a_c[0], a_t[0], r_t[0], b_t[0]))\n",
    "        axs[i,j].set_ylabel(\"SIFs\")\n",
    "        axs[i,j].set_xlabel(r\"$\\phi$\")\n",
    "        \n",
    "        if i == 0 and j == 0:\n",
    "            axs[i,j].legend()\n",
    "\n",
    "plt.show()"
   ]
  },
  {
   "cell_type": "code",
   "execution_count": null,
   "id": "0ddff921",
   "metadata": {},
   "outputs": [],
   "source": []
  }
 ],
 "metadata": {
  "kernelspec": {
   "display_name": ".venv",
   "language": "python",
   "name": "python3"
  },
  "language_info": {
   "codemirror_mode": {
    "name": "ipython",
    "version": 3
   },
   "file_extension": ".py",
   "mimetype": "text/x-python",
   "name": "python",
   "nbconvert_exporter": "python",
   "pygments_lexer": "ipython3",
   "version": "3.12.3"
  }
 },
 "nbformat": 4,
 "nbformat_minor": 5
}
