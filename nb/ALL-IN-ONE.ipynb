{
 "cells": [
  {
   "cell_type": "code",
   "execution_count": 2,
   "id": "d1d82890",
   "metadata": {},
   "outputs": [],
   "source": [
    "import numpy as np\n",
    "import os"
   ]
  },
  {
   "cell_type": "code",
   "execution_count": 3,
   "id": "756e27b9",
   "metadata": {},
   "outputs": [
    {
     "name": "stdout",
     "output_type": "stream",
     "text": [
      "['FA7000-15-D-0006-19FA202', 'BH_SINGLE', 'FA700021D0002-23F0143', 'FA7000-15-D-0006-0016', 'FA7000-10-D-0014-0055', 'FA7000-15-D-0006-9011', 'FA700021D0002-22F0214', 'FA7000-15-D-0006-20F0212']\n"
     ]
    }
   ],
   "source": [
    "# Specify the directory path\n",
    "dir_path = \"../files/data/\"\n",
    "\n",
    "# Get folder names\n",
    "master_folders = [f for f in os.listdir(dir_path) if os.path.isdir(os.path.join(dir_path, f))]\n",
    "\n",
    "print(master_folders)"
   ]
  },
  {
   "cell_type": "code",
   "execution_count": 4,
   "id": "550ad6d0",
   "metadata": {},
   "outputs": [
    {
     "name": "stdout",
     "output_type": "stream",
     "text": [
      "['CASE24_KI_Single_Cracks.csv']\n"
     ]
    },
    {
     "data": {
      "text/plain": [
       "(10426, 5)"
      ]
     },
     "execution_count": 4,
     "metadata": {},
     "output_type": "execute_result"
    }
   ],
   "source": [
    "master_folder = master_folders[3]\n",
    "\n",
    "# Specify the directory path\n",
    "dir_path = \"../files/data/{}\".format(master_folder)\n",
    "\n",
    "# Get all .csv files\n",
    "csv_files = [f for f in os.listdir(dir_path) if f.endswith(\".csv\")]\n",
    "print(csv_files)\n",
    "\n",
    "file = csv_files[0]\n",
    "combinations_0016 = np.load(\"../files/data/{}/combinations_{}.npy\".format(master_folder, file[:-4]))\n",
    "combinations_0016.shape"
   ]
  },
  {
   "cell_type": "code",
   "execution_count": 5,
   "id": "9c521440",
   "metadata": {},
   "outputs": [
    {
     "name": "stdout",
     "output_type": "stream",
     "text": [
      "['ALL-SINGLE.csv']\n"
     ]
    },
    {
     "data": {
      "text/plain": [
       "(1740, 5)"
      ]
     },
     "execution_count": 5,
     "metadata": {},
     "output_type": "execute_result"
    }
   ],
   "source": [
    "master_folder = master_folders[4]\n",
    "\n",
    "# Specify the directory path\n",
    "dir_path = \"../files/data/{}\".format(master_folder)\n",
    "\n",
    "# Get all .csv files\n",
    "csv_files = [f for f in os.listdir(dir_path) if f.endswith(\".csv\")]\n",
    "print(csv_files)\n",
    "\n",
    "file = csv_files[0]\n",
    "combinations_0055 = np.load(\"../files/data/{}/combinations_{}.npy\".format(master_folder, file[:-4]))\n",
    "combinations_0055.shape"
   ]
  },
  {
   "cell_type": "code",
   "execution_count": 11,
   "id": "acd78dc9",
   "metadata": {},
   "outputs": [
    {
     "name": "stdout",
     "output_type": "stream",
     "text": [
      "[[ True]\n",
      " [ True]\n",
      " [ True]\n",
      " ...\n",
      " [False]\n",
      " [False]\n",
      " [False]]\n"
     ]
    }
   ],
   "source": [
    "# Convert arrays to structured format\n",
    "dt = {'names': ['f{}'.format(i) for i in range(combinations_0055.shape[1])],\n",
    "      'formats': [combinations_0055.dtype] * combinations_0055.shape[1]}\n",
    "\n",
    "small_structured = combinations_0055.view(dt)\n",
    "large_structured = combinations_0016.view(dt)\n",
    "\n",
    "# Check membership of rows\n",
    "result = np.isin(small_structured, large_structured)\n",
    "print(result)  # Output: Boolean array indicating presence of each row in the large array"
   ]
  },
  {
   "cell_type": "code",
   "execution_count": null,
   "id": "da2982e0",
   "metadata": {},
   "outputs": [],
   "source": []
  }
 ],
 "metadata": {
  "kernelspec": {
   "display_name": ".venv",
   "language": "python",
   "name": "python3"
  },
  "language_info": {
   "codemirror_mode": {
    "name": "ipython",
    "version": 3
   },
   "file_extension": ".py",
   "mimetype": "text/x-python",
   "name": "python",
   "nbconvert_exporter": "python",
   "pygments_lexer": "ipython3",
   "version": "3.12.3"
  }
 },
 "nbformat": 4,
 "nbformat_minor": 5
}
